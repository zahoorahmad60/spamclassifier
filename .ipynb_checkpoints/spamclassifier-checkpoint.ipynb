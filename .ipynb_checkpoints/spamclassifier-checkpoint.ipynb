{
  "cells": [
    {
      "cell_type": "markdown",
      "metadata": {
        "id": "Iu-f2iKPuT1S"
      },
      "source": [
        "# Spam Classifier\n",
        "## Assignment Preamble\n",
        "Please ensure you carefully read all of the details and instructions on the assignment page, this section, and the rest of the notebook. If anything is unclear at any time please post on the forum or ask a tutor well in advance of the assignment deadline.\n",
        "\n",
        "In addition to all of the instructions in the body of the assignment below, you must also follow the following technical instructions for all assignments in this unit. *Failure to do so may result in a grade of zero.*\n",
        "* [At the bottom of the page](#Submission-Test) is some code which checks you meet the submission requirements. You **must** ensure that this runs correctly before submission.\n",
        "* Do not modify or delete any of the cells that are marked as test cells, even if they appear to be empty.\n",
        "* Do not duplicate any cells in the notebook – this can break the marking script. Instead, insert a new cell (e.g. from the menu) and copy across any contents as necessary.\n",
        "\n",
        "Remember to save and backup your work regularly, and double-check you are submitting the correct version.\n",
        "\n",
        "This notebook is the primary reference for your submission. You may write code in separate `.py` files but it must be clearly imported into the notebook so that it runs without needing to reference those files, and you must explain clearly what functionality is contained in those files (through comments, markdown cells, etc).\n",
        "\n",
        "As always, **the work you submit for this assignment must be entirely your own.** Do not copy or work with other students. Do not copy answers that you find online. These assignments are designed to help improve your understanding first and foremost – the process of doing the assignment is part of *learning*. They are also used to assess your ability, and so you must uphold academic integrity. Submitting plagiarised work risks your entire place on your degree.\n",
        "\n",
        "**The pass mark for this assignment is 40%.** We expect that students, on average, will be able to produce a submission which gets a mark between 50-70% within the normal workload allocation for the unit, but this will vary depending on individual backgrounds. Please ask for help if you are struggling.\n",
        "\n",
        "## Getting Started\n",
        "Spam refers to unwanted email, often in the form of advertisements. In the literature, an email that is **not** spam is called *ham*. Most email providers offer automatic spam filtering, where spam emails will be moved to a separate inbox based on their contents. Of course this requires being able to scan an email and determine whether it is spam or ham, a classification problem. This is the subject of this assignment.\n",
        "\n",
        "This assignment has two parts. Each part is worth 50% of the overall grade for this assignment.\n",
        "\n",
        "For part one you will write a supervised learning based classifier to determine whether a given email is spam or ham. You must write and submit the code in this notebook. The training data is provided for you. You may use any classification method. Marks will be awarded primarily based on the accuracy of your classifier on unseen test data, but there are also marks for estimating how accurate you think your classifier will be.\n",
        "\n",
        "In part two you will produce a short video explaining your implementation, any decisions or extensions you made, and what parameter values you used. This part is explained in more detail on the assignment page. The video file must be submitted with your assignment.\n",
        "\n",
        "### Choice of Algorithm\n",
        "While the classification method is a completely free choice, the assignment folder includes [a separate notebook file](data/naivebayes.ipynb) which can help you implement a Naïve Bayes solution. If you do use this notebook, you are still responsible for porting your code into *this* notebook for submission. A good implementation should give a high  enough accuracy to get a good grade on this section (50-70%).\n",
        "\n",
        "You could also consider a k-nearest neighbour algorithm, but this may be less accurate. Logistic regression is another option that you may wish to consider.\n",
        "\n",
        "If you are looking to go beyond the scope of the unit, you might be interested in building something more advanced, like an artificial neural network. This is possible just using `numpy`, but will require significant self-directed learning. *Extensions like this are left unguided and are not factored into the unit workload estimates.*\n",
        "\n",
        "**Note:** you may use helper functions in libraries like `numpy` or `scipy`, but you **must not** import code which builds entire models for you. This includes but is not limited to use of libraries like `scikit-learn`, `tensorflow`, or `pytorch` – there will be plenty of opportunities for these libraries in later units. The point of this assignment is to understand code the actual algorithm yourself. ***If you are in any doubt about any particular library or function please ask a tutor.*** Submissions which ignore this will receive penalties or even zero marks.\n",
        "\n",
        "If you choose to implement more than one algorithm, please feel free to include your code and talk about it in part two (your video presentation), but only the code in this notebook will be used in the automated testing.\n",
        "\n",
        "## Training Data\n",
        "The training data is described below and has 1000 rows. There is also a 500 row set of test data. These are functionally identical to the training data, they are just in a separate csv file to encourage you to split out your training and test data. You should consider how to best make use of all available data without overfitting, and to help produce an unbiased estimate for your classifier's accuracy.\n",
        "\n",
        "The cell below loads the training data into a variable called `training_spam`."
      ]
    },
    {
      "cell_type": "code",
      "execution_count": 1,
      "metadata": {
        "colab": {
          "base_uri": "https://localhost:8080/"
        },
        "id": "HFAzokCAuT1Z",
        "outputId": "3e992f89-e31a-4fa3-f056-8f7eb64215c8"
      },
      "outputs": [
        {
          "output_type": "stream",
          "name": "stdout",
          "text": [
            "Shape of the spam training data set: (500, 55)\n",
            "[[1 0 0 ... 1 1 1]\n",
            " [1 1 0 ... 1 1 1]\n",
            " [0 0 0 ... 0 0 0]\n",
            " ...\n",
            " [0 0 0 ... 0 0 0]\n",
            " [0 0 0 ... 1 0 0]\n",
            " [0 0 0 ... 1 0 0]]\n"
          ]
        }
      ],
      "source": [
        "import numpy as np\n",
        "from IPython.display import HTML,Javascript, display\n",
        "\n",
        "training_spam = np.loadtxt(open(\"/content/testing_spam.csv\"), delimiter=\",\").astype(int)\n",
        "print(\"Shape of the spam training data set:\", training_spam.shape)\n",
        "print(training_spam)"
      ]
    },
    {
      "cell_type": "markdown",
      "metadata": {
        "id": "M1Sey8aVuT1d"
      },
      "source": [
        "Your training set consists of 1000 rows and 55 columns. Each row corresponds to one email message. The first column is the _response_ variable and describes whether a message is spam `1` or ham `0`. The remaining 54 columns are _features_ that you will use to build a classifier. These features correspond to 54 different keywords (such as \"money\", \"free\", and \"receive\") and special characters (such as \":\", \"!\", and \"$\"). A feature has the value `1` if the keyword appears in the message and `0` otherwise.\n",
        "\n",
        "As mentioned there is also a 500 row set of *test data*. It contains the same 55 columns."
      ]
    },
    {
      "cell_type": "code",
      "execution_count": 2,
      "metadata": {
        "colab": {
          "base_uri": "https://localhost:8080/"
        },
        "id": "hVq_mt-kuT1g",
        "outputId": "df586f65-f2e3-49fc-cdf6-569535379071"
      },
      "outputs": [
        {
          "output_type": "stream",
          "name": "stdout",
          "text": [
            "Shape of the spam testing data set: (1000, 55)\n",
            "[[1 0 0 ... 0 0 0]\n",
            " [0 0 1 ... 1 0 0]\n",
            " [0 0 0 ... 1 0 0]\n",
            " ...\n",
            " [0 0 0 ... 0 0 1]\n",
            " [1 1 1 ... 1 1 0]\n",
            " [1 0 0 ... 1 1 1]]\n"
          ]
        }
      ],
      "source": [
        "testing_spam = np.loadtxt(open(\"/content/training_spam.csv\"), delimiter=\",\").astype(int)\n",
        "print(\"Shape of the spam testing data set:\", testing_spam.shape)\n",
        "print(testing_spam)"
      ]
    },
    {
      "cell_type": "markdown",
      "metadata": {
        "id": "bYPzivEyuT1i"
      },
      "source": [
        "## Part One\n",
        "Write all of the code for your classifier below this cell. There is some very rough skeleton code in the cell directly below. You may insert more cells below this if you wish, but you must not duplicate any cells as this can break the grading script.\n",
        "\n",
        "### Submission Requirements\n",
        "Your code must provide a variable with the name `classifier`. This object must have a method called `predict` which takes input data and returns class predictions. The input will be a single $n \\times 54$ numpy array, your classifier should return a numpy array of length $n$ with classifications. There is a demo in the cell below, and a test you can run before submitting to check your code is working correctly.\n",
        "\n",
        "Your code must run on our test machine in under 30 seconds. If you wish to train a more complicated model (e.g. neural network) which will take longer, you are welcome to save the model's weights as a file and then load these in the cell below so we can test it. You must include the code which computes the original weights, but this must not run when we run the notebook – comment out the code which actually executes the routine and make sure it is clear what we need to change to get it to run. Remember that we will be testing your final classifier on additional hidden data."
      ]
    },
    {
      "cell_type": "code",
      "source": [
        "import numpy as np\n",
        "\n",
        "class NaiveBayesClassifier:\n",
        "    def __init__(self):\n",
        "        self.log_class_priors = None\n",
        "        self.log_class_conditional_likelihoods = None\n",
        "\n",
        "    def train(self, data, alpha=1.0):\n",
        "        # Extract the binary response variable from the first column\n",
        "        response_variable = data[:, 0].astype(int)  # Convert to integers\n",
        "\n",
        "        # Extract the feature matrix from the remaining columns\n",
        "        features = data[:, 1:]\n",
        "\n",
        "        # Get the number of features\n",
        "        n_features = features.shape[1]\n",
        "\n",
        "        # Initialize arrays to store counts\n",
        "        class_counts = np.zeros((2, n_features))  # Counts of each feature for each class\n",
        "        class_totals = np.zeros(2)  # Total counts for each class\n",
        "\n",
        "        # Iterate over each sample\n",
        "        for i, c in enumerate(response_variable):\n",
        "            # Increment class total count\n",
        "            class_totals[int(c)] += 1  # Convert c to integer\n",
        "            # Increment counts of each feature for the current class\n",
        "            class_counts[int(c)] += features[i]\n",
        "\n",
        "        # Apply Laplace smoothing if alpha > 0\n",
        "        if alpha > 0:\n",
        "            class_counts += alpha\n",
        "            class_totals += alpha * 2  # 2 as there are two classes\n",
        "\n",
        "        # Calculate class-conditional likelihoods\n",
        "        self.log_class_conditional_likelihoods = np.log(class_counts / class_totals[:, np.newaxis])\n",
        "\n",
        "        # Calculate class priors\n",
        "        self.log_class_priors = np.log(class_totals / np.sum(class_totals))\n",
        "\n",
        "    def predict(self, new_data):\n",
        "        # Calculate the logarithm of the posterior probability for each class\n",
        "        posterior_log_probs = np.dot(new_data, self.log_class_conditional_likelihoods.T) + self.log_class_priors\n",
        "\n",
        "        # Predict the class with the highest posterior probability for each instance\n",
        "        class_predictions = np.argmax(posterior_log_probs, axis=1)\n",
        "\n",
        "        return class_predictions"
      ],
      "metadata": {
        "id": "WRZhi6tY44rv"
      },
      "execution_count": 3,
      "outputs": []
    },
    {
      "cell_type": "code",
      "execution_count": 12,
      "metadata": {
        "id": "v5tF7nI5uT1k"
      },
      "outputs": [],
      "source": [
        "# This skeleton code simply classifies every input as ham\n",
        "#\n",
        "# Here you can see there is a parameter k that is unused, the\n",
        "# point is to show you how you could set up your own. You might\n",
        "# also pass in extra data via a train method (also does nothing\n",
        "# here). Modify this code as much as you like so long as the\n",
        "# accuracy test in the cell below runs.\n",
        "\n",
        "class SpamClassifier:\n",
        "    def __init__(self, alpha=1.0):\n",
        "        self.alpha = alpha\n",
        "        self.classifier = NaiveBayesClassifier()\n",
        "\n",
        "    def train(self, data):\n",
        "        self.classifier.train(data, alpha=self.alpha)\n",
        "\n",
        "    def predict(self, new_data):\n",
        "        return self.classifier.predict(new_data)\n",
        "\n",
        "def create_classifier(training_data):\n",
        "    classifier = SpamClassifier(alpha=1)\n",
        "    classifier.train(training_data)\n",
        "    return classifier"
      ]
    },
    {
      "cell_type": "code",
      "source": [
        "classifier = create_classifier(training_spam)\n"
      ],
      "metadata": {
        "id": "wlj3XEiZ66pO"
      },
      "execution_count": 14,
      "outputs": []
    },
    {
      "cell_type": "markdown",
      "metadata": {
        "id": "Px_qRmvluT1m"
      },
      "source": [
        "### Accuracy Estimate\n",
        "In the cell below there is a function called `my_accuracy_estimate()` which returns `0.5`. Before you submit the assignment, write your best guess for the accuracy of your classifier into this function, as a percentage between `0` and `1`. So if you think you will get 80% of inputs correct, return the value `0.8`. This will form a small part of the marking criteria for the assignment, to encourage you to test your own code."
      ]
    },
    {
      "cell_type": "code",
      "execution_count": 15,
      "metadata": {
        "id": "CmS0SNG2uT1m"
      },
      "outputs": [],
      "source": [
        "def my_accuracy_estimate():\n",
        "    return 0.85"
      ]
    },
    {
      "cell_type": "markdown",
      "metadata": {
        "id": "Y2ulFkBiuT1o"
      },
      "source": [
        "Write all of the code for your classifier above this cell.\n",
        "\n",
        "### Testing Details\n",
        "Your classifier will be tested against some hidden data from the same source as the original. The accuracy (percentage of classifications correct) will be calculated, then benchmarked against common methods. At the very high end of the grading scale, your accuracy will also be compared to the best submissions from other students (in your own cohort and others!). Your estimate from the cell above will also factor in, and you will be rewarded for being close to your actual accuracy (overestimates and underestimates will be treated the same).\n",
        "\n",
        "#### Test Cell\n",
        "The following code will run your classifier against the provided test data. To enable it, set the constant `SKIP_TESTS` to `False`.\n",
        "\n",
        "The original skeleton code above classifies every row as ham, but once you have written your own classifier you can run this cell again to test it. So long as your code sets up a variable called `classifier` with a method called `predict`, the test code will be able to run.\n",
        "\n",
        "Of course you may wish to test your classifier in additional ways, but you *must* ensure this version still runs before submitting.\n",
        "\n",
        "**IMPORTANT**: you must set `SKIP_TESTS` back to `True` before submitting this file!"
      ]
    },
    {
      "cell_type": "code",
      "execution_count": 16,
      "metadata": {
        "id": "BMjcvZc-uT1p"
      },
      "outputs": [],
      "source": [
        "SKIP_TESTS = True\n",
        "\n",
        "if not SKIP_TESTS:\n",
        "    testing_spam = np.loadtxt(open(\"/content/testing_spam.csv\"), delimiter=\",\").astype(int)\n",
        "    test_data = testing_spam[:, 1:]\n",
        "    test_labels = testing_spam[:, 0]\n",
        "\n",
        "    predictions = classifier.predict(test_data)\n",
        "    accuracy = np.count_nonzero(predictions == test_labels)/test_labels.shape[0]\n",
        "    print(f\"Accuracy on test data is: {accuracy}\")"
      ]
    },
    {
      "cell_type": "code",
      "execution_count": 19,
      "metadata": {
        "deletable": false,
        "editable": false,
        "nbgrader": {
          "cell_type": "code",
          "checksum": "57d38fa58f242d4d856fbaa18e9f8768",
          "grade": false,
          "grade_id": "cell-b6c47ab23c28b2b9",
          "locked": true,
          "schema_version": 3,
          "solution": false,
          "task": false
        },
        "colab": {
          "base_uri": "https://localhost:8080/"
        },
        "id": "kat9HPlLuT1q",
        "outputId": "bfe4a464-5933-4982-bdaa-1e49c311dc79"
      },
      "outputs": [
        {
          "output_type": "stream",
          "name": "stdout",
          "text": [
            "\u001b[1;32m[✓]\u001b[0m 'SKIP_TESTS' is set to true.\u001b[0m\n",
            "\u001b[1;33m[!] The notebook name is incorrect.\u001b[0m\n",
            "\u001b[1;31m\t✗ This notebook file must be named spamclassifier.ipynb\u001b[0m\n",
            "\u001b[1;32m[✓]\u001b[0m The create_classifier function has been defined.\u001b[0m\n",
            "\u001b[1;32m[✓]\u001b[0m The classifer variable has been correctly defined.\u001b[0m\n",
            "\u001b[1;32m[✓]\u001b[0m The my_accuracy_estimate function has been defined correctly.\u001b[0m\n",
            "\u001b[1;32m[✓]\u001b[0m Success running test set - Accuracy was 83.20%.\u001b[0m\n"
          ]
        },
        {
          "output_type": "stream",
          "name": "stderr",
          "text": [
            "Your submission is not ready! Please read and follow the instructions above."
          ]
        }
      ],
      "source": [
        "import sys\n",
        "import pathlib\n",
        "\n",
        "fail = False;\n",
        "\n",
        "success = '\\033[1;32m[✓]\\033[0m'\n",
        "issue = '\\033[1;33m[!]'\n",
        "error = '\\033[1;31m\\t✗'\n",
        "\n",
        "#######\n",
        "##\n",
        "## Skip Tests check.\n",
        "##\n",
        "## Test to ensure the SKIP_TESTS variable is set to True to prevent it slowing down the automarker.\n",
        "##\n",
        "#######\n",
        "\n",
        "if not SKIP_TESTS:\n",
        "    fail = True;\n",
        "    print(\"{} \\'SKIP_TESTS\\' is incorrectly set to False.\\033[0m\".format(issue))\n",
        "    print(\"{} You must set the SKIP_TESTS constant to True in the cell above.\\033[0m\".format(error))\n",
        "else:\n",
        "    print('{} \\'SKIP_TESTS\\' is set to true.\\033[0m'.format(success))\n",
        "\n",
        "#######\n",
        "##\n",
        "## File Name check.\n",
        "##\n",
        "## Test to ensure file has the correct name. This is important for the marking system to correctly process the submission.\n",
        "##\n",
        "#######\n",
        "\n",
        "p3 = pathlib.Path('./spamclassifier.ipynb')\n",
        "if not p3.is_file():\n",
        "    fail = True\n",
        "    print(\"{} The notebook name is incorrect.\\033[0m\".format(issue))\n",
        "    print(\"{} This notebook file must be named spamclassifier.ipynb\\033[0m\".format(error))\n",
        "else:\n",
        "    print('{} The notebook name is correct.\\033[0m'.format(success))\n",
        "\n",
        "#######\n",
        "##\n",
        "## Create classifier function check.\n",
        "##\n",
        "## Test that checks the create_classifier function exists. The function should train the classifier and return it so that it can be evaluated by the marking system.\n",
        "##\n",
        "#######\n",
        "\n",
        "if \"create_classifier\" not in dir():\n",
        "    fail = True;\n",
        "    print(\"{} The create_classifier function has not been defined.\\033[0m\".format(issue))\n",
        "    print(\"{} Your code must include a create_classifier function as described in the coursework specification.\\033[0m\".format(error))\n",
        "    print(\"{} If you believe you have, \\'restart & run-all\\' to clear this error.\\033[0m\".format(error))\n",
        "else:\n",
        "    print('{} The create_classifier function has been defined.\\033[0m'.format(success))\n",
        "\n",
        "#######\n",
        "##\n",
        "## Classifier variable check.\n",
        "##\n",
        "## Test that checks the classifier variable exists. The marking system will use this variable to make predictions based on a set of random features you have not seen. Your score will be based on how well your classifier predicts the hidden labels.\n",
        "##\n",
        "#######\n",
        "\n",
        "if 'classifier' not in vars():\n",
        "    fail = True;\n",
        "    print(\"{} The classifer variable has not been defined.\\033[0m\".format(issue))\n",
        "    print(\"{} Your code must create a variable called \\'classifier\\' as described in the coursework specification.\\033[0m\".format(error))\n",
        "    print(\"{} This variable should contain the trained classifier you have created.\\033[0m\".format(error))\n",
        "else:\n",
        "    print('{} The classifer variable has been correctly defined.\\033[0m'.format(success))\n",
        "\n",
        "#######\n",
        "##\n",
        "## Accuracy Estimation check.\n",
        "##\n",
        "## Test that checks the accuracy estimation function exists and is a reasonable value. This is a requirement of the coursework specification and is used by the marking system when generating your final grade.\n",
        "##\n",
        "#######\n",
        "\n",
        "if \"my_accuracy_estimate\" not in dir():\n",
        "    fail = True;\n",
        "    print(\"{} The my_accuracy_estimate function has not been defined.\\033[0m\".format(issue))\n",
        "    print(\"{} Your code must include a my_accuracy_estimate function as described in the coursework specification.\\033[0m\".format(error))\n",
        "    print(\"{} If you believe you have, \\'restart & run-all\\' to clear this error.\\033[0m\".format(error))\n",
        "else:\n",
        "    if my_accuracy_estimate() == 0.5:\n",
        "        print(\"{} my_accuracy_estimate function warning.\\033[0m\".format(issue))\n",
        "        print(\"{} my_accuracy_estimate function returns a value of 0.5 - Your classifier is no better than random chance.\\033[0m\".format(error))\n",
        "        print(\"{} Are you sure this is correct.\\033[0m\".format(error))\n",
        "    else:\n",
        "        print('{} The my_accuracy_estimate function has been defined correctly.\\033[0m'.format(success))\n",
        "\n",
        "#######\n",
        "##\n",
        "## Test set check.\n",
        "##\n",
        "## Test that checks your classifier actually works. The calls made here are the same made by the automarker - albeit with different data. If your work fails this test it will score 0 in the automarker.\n",
        "##\n",
        "#######\n",
        "\n",
        "try:\n",
        "    testing_spam = np.loadtxt(open(\"/content/testing_spam.csv\"), delimiter=\",\").astype(int)\n",
        "    test_data = testing_spam[:, 1:]\n",
        "    test_labels = testing_spam[:, 0]\n",
        "\n",
        "    try:\n",
        "        predictions = classifier.predict(test_data)\n",
        "        accuracy = np.count_nonzero(predictions == test_labels)/test_labels.shape[0]\n",
        "        print('{0} Success running test set - Accuracy was {1:.2f}%.\\033[0m'.format(success, (accuracy*100)))\n",
        "    except Exception as e:\n",
        "        fail = True\n",
        "        print(\"{} Error running test set.\\033[0m\".format(issue))\n",
        "        print(\"{} Your code produced the following error. This error will result in a zero from the automarker, please fix.\\033[0m\".format(error))\n",
        "#         print(\"{} {}\\033[0m\".format(error, e))\n",
        "        print(e)\n",
        "except:\n",
        "    sys.stderr.write(\"Unable to run one test as the file \\'data/testing_spam.csv\\' could not be found.\")\n",
        "\n",
        "#######\n",
        "##\n",
        "## Final Summary\n",
        "##\n",
        "## Prints the final results of the submission tests.\n",
        "##\n",
        "#######\n",
        "\n",
        "if fail:\n",
        "    sys.stderr.write(\"Your submission is not ready! Please read and follow the instructions above.\")\n",
        "else:\n",
        "    print(\"\\033[1m\\n\\n\")\n",
        "    print(\"╔═══════════════════════════════════════════════════════════════╗\")\n",
        "    print(\"║                        Congratulations!                       ║\")\n",
        "    print(\"║                                                               ║\")\n",
        "    print(\"║            Your work meets all the required criteria          ║\")\n",
        "    print(\"║                   and is ready for submission.                ║\")\n",
        "    print(\"╚═══════════════════════════════════════════════════════════════╝\")\n",
        "    print(\"\\033[0m\")\n",
        ""
      ]
    },
    {
      "cell_type": "code",
      "execution_count": null,
      "metadata": {
        "deletable": false,
        "editable": false,
        "nbgrader": {
          "cell_type": "code",
          "checksum": "136737e66133e8cd4881060775030b30",
          "grade": true,
          "grade_id": "cell-b64bc40ab6485b50",
          "locked": true,
          "points": 50,
          "schema_version": 3,
          "solution": false,
          "task": false
        },
        "id": "phqr-za9uT1v"
      },
      "outputs": [],
      "source": [
        "# This is a test cell. Please do not modify or delete."
      ]
    }
  ],
  "metadata": {
    "kernelspec": {
      "display_name": "Python 3 (ipykernel)",
      "language": "python",
      "name": "python3"
    },
    "language_info": {
      "codemirror_mode": {
        "name": "ipython",
        "version": 3
      },
      "file_extension": ".py",
      "mimetype": "text/x-python",
      "name": "python",
      "nbconvert_exporter": "python",
      "pygments_lexer": "ipython3",
      "version": "3.8.9"
    },
    "colab": {
      "provenance": [],
      "toc_visible": true
    }
  },
  "nbformat": 4,
  "nbformat_minor": 0
}